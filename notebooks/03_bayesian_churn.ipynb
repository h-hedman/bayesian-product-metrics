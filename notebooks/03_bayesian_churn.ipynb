{
 "cells": [
  {
   "cell_type": "code",
   "execution_count": 16,
   "id": "a5df813c-4ff0-438f-8f18-3d5c4c442e18",
   "metadata": {},
   "outputs": [],
   "source": [
    "import pymc as pm\n",
    "import arviz as az\n",
    "import pandas as pd\n",
    "import numpy as np\n",
    "import matplotlib.pyplot as plt\n",
    "from pathlib import Path\n",
    "import seaborn as sns\n",
    "# Convert log-odds to probability reduction\n",
    "from scipy.special import expit  # sigmoid\n",
    "from matplotlib import cm\n",
    "from matplotlib import colormaps\n"
   ]
  },
  {
   "cell_type": "code",
   "execution_count": 2,
   "id": "98194806-6243-4488-93e9-563fbb6a3722",
   "metadata": {},
   "outputs": [],
   "source": [
    "# Setup paths\n",
    "CURRENT_DIR = Path().resolve()\n",
    "BASE_DIR = CURRENT_DIR.parent if CURRENT_DIR.name == \"notebooks\" else CURRENT_DIR\n",
    "RAW_DATA_DIR = BASE_DIR / \"data\" / \"raw\"\n",
    "PROCESSED_DATA_DIR = BASE_DIR / \"data\" / \"processed\"\n",
    "FIGURES_DIR = BASE_DIR / \"figures\"\n",
    "\n",
    "PROCESSED_DATA_DIR.mkdir(parents=True, exist_ok=True)\n",
    "FIGURES_DIR.mkdir(parents=True, exist_ok=True)\n"
   ]
  },
  {
   "cell_type": "code",
   "execution_count": 3,
   "id": "de951158-fc0f-4c14-b512-711e2c346d01",
   "metadata": {},
   "outputs": [],
   "source": [
    "#Load & Prepare Data\n",
    "events = pd.read_csv(RAW_DATA_DIR / \"events.csv\", parse_dates=[\"month\"])\n",
    "users = pd.read_csv(RAW_DATA_DIR / \"users.csv\", parse_dates=[\"signup_date\"])\n",
    "\n",
    "# Merge and create features\n",
    "df = events.merge(users[[\"user_id\", \"signup_date\"]], on=\"user_id\", how=\"left\")\n",
    "df = df.sort_values([\"user_id\", \"month\"])\n",
    "df = df.groupby(\"user_id\").first().reset_index()  # keep first month per user\n",
    "\n",
    "# Filter modeling sample\n",
    "df = df[df[\"subscription_type\"].isin([\"monthly\", \"annual\"])]  # remove trial users\n",
    "df[\"is_annual\"] = (df[\"subscription_type\"] == \"annual\").astype(int)\n",
    "df[\"engagement\"] = df[\"usage_time\"]  # can later bin if you want segments\n"
   ]
  },
  {
   "cell_type": "code",
   "execution_count": 4,
   "id": "75aa9aa1-cdf2-4d18-b6ea-c948e8c06e54",
   "metadata": {},
   "outputs": [],
   "source": [
    "# Define model inputs\n",
    "X = df[[\"is_annual\", \"engagement\"]].copy()\n",
    "X[\"engagement\"] = (X[\"engagement\"] - X[\"engagement\"].mean()) / X[\"engagement\"].std()  # optional standardization\n",
    "\n",
    "y = df[\"churn_flag\"].values\n"
   ]
  },
  {
   "cell_type": "code",
   "execution_count": 5,
   "id": "5302f738-96e9-4f6f-94ac-a1ba315b06aa",
   "metadata": {},
   "outputs": [
    {
     "name": "stderr",
     "output_type": "stream",
     "text": [
      "Initializing NUTS using jitter+adapt_diag...\n",
      "Multiprocess sampling (4 chains in 4 jobs)\n",
      "NUTS: [intercept, beta_annual, beta_engage]\n"
     ]
    },
    {
     "data": {
      "application/vnd.jupyter.widget-view+json": {
       "model_id": "d7a57e8019b84600bfd3eec18fc52408",
       "version_major": 2,
       "version_minor": 0
      },
      "text/plain": [
       "Output()"
      ]
     },
     "metadata": {},
     "output_type": "display_data"
    },
    {
     "data": {
      "text/html": [
       "<pre style=\"white-space:pre;overflow-x:auto;line-height:normal;font-family:Menlo,'DejaVu Sans Mono',consolas,'Courier New',monospace\"></pre>\n"
      ],
      "text/plain": []
     },
     "metadata": {},
     "output_type": "display_data"
    },
    {
     "data": {
      "text/html": [
       "<pre style=\"white-space:pre;overflow-x:auto;line-height:normal;font-family:Menlo,'DejaVu Sans Mono',consolas,'Courier New',monospace\">\n",
       "</pre>\n"
      ],
      "text/plain": [
       "\n"
      ]
     },
     "metadata": {},
     "output_type": "display_data"
    },
    {
     "name": "stderr",
     "output_type": "stream",
     "text": [
      "Sampling 4 chains for 1_000 tune and 2_000 draw iterations (4_000 + 8_000 draws total) took 29 seconds.\n"
     ]
    },
    {
     "data": {
      "text/plain": [
       "WindowsPath('C:/Users/hayde/Desktop/bayesian-product-metrics/data/processed/churn_model_trace.nc')"
      ]
     },
     "execution_count": 5,
     "metadata": {},
     "output_type": "execute_result"
    }
   ],
   "source": [
    "# Fit Bayesian logistic model (PyMC)\n",
    "with pm.Model() as model:\n",
    "    # Priors\n",
    "    intercept = pm.Normal(\"intercept\", mu=0, sigma=1)\n",
    "    beta_annual = pm.Normal(\"beta_annual\", mu=0, sigma=1)\n",
    "    beta_engage = pm.Normal(\"beta_engage\", mu=0, sigma=1)\n",
    "\n",
    "    # Linear predictor\n",
    "    logit_p = intercept + beta_annual * X[\"is_annual\"] + beta_engage * X[\"engagement\"]\n",
    "    p = pm.Deterministic(\"p\", pm.math.sigmoid(logit_p))\n",
    "\n",
    "    # Likelihood\n",
    "    y_obs = pm.Bernoulli(\"y_obs\", p=p, observed=y)\n",
    "\n",
    "    # Sampling\n",
    "    trace = pm.sample(2000, tune=1000, target_accept=0.9, return_inferencedata=True)\n",
    "\n",
    "# Save posterior draws\n",
    "az.to_netcdf(trace, PROCESSED_DATA_DIR / \"churn_model_trace.nc\")\n"
   ]
  },
  {
   "cell_type": "code",
   "execution_count": 6,
   "id": "ea61e2f0-b687-4fb3-90b6-e8507e9344ff",
   "metadata": {},
   "outputs": [
    {
     "data": {
      "text/html": [
       "<div>\n",
       "<style scoped>\n",
       "    .dataframe tbody tr th:only-of-type {\n",
       "        vertical-align: middle;\n",
       "    }\n",
       "\n",
       "    .dataframe tbody tr th {\n",
       "        vertical-align: top;\n",
       "    }\n",
       "\n",
       "    .dataframe thead th {\n",
       "        text-align: right;\n",
       "    }\n",
       "</style>\n",
       "<table border=\"1\" class=\"dataframe\">\n",
       "  <thead>\n",
       "    <tr style=\"text-align: right;\">\n",
       "      <th></th>\n",
       "      <th>mean</th>\n",
       "      <th>sd</th>\n",
       "      <th>hdi_3%</th>\n",
       "      <th>hdi_97%</th>\n",
       "      <th>mcse_mean</th>\n",
       "      <th>mcse_sd</th>\n",
       "      <th>ess_bulk</th>\n",
       "      <th>ess_tail</th>\n",
       "      <th>r_hat</th>\n",
       "    </tr>\n",
       "  </thead>\n",
       "  <tbody>\n",
       "    <tr>\n",
       "      <th>intercept</th>\n",
       "      <td>-2.696</td>\n",
       "      <td>0.121</td>\n",
       "      <td>-2.919</td>\n",
       "      <td>-2.462</td>\n",
       "      <td>0.002</td>\n",
       "      <td>0.002</td>\n",
       "      <td>3462.0</td>\n",
       "      <td>3744.0</td>\n",
       "      <td>1.0</td>\n",
       "    </tr>\n",
       "    <tr>\n",
       "      <th>beta_annual</th>\n",
       "      <td>-1.326</td>\n",
       "      <td>0.228</td>\n",
       "      <td>-1.757</td>\n",
       "      <td>-0.906</td>\n",
       "      <td>0.003</td>\n",
       "      <td>0.003</td>\n",
       "      <td>4649.0</td>\n",
       "      <td>4172.0</td>\n",
       "      <td>1.0</td>\n",
       "    </tr>\n",
       "    <tr>\n",
       "      <th>beta_engage</th>\n",
       "      <td>-1.951</td>\n",
       "      <td>0.134</td>\n",
       "      <td>-2.209</td>\n",
       "      <td>-1.707</td>\n",
       "      <td>0.002</td>\n",
       "      <td>0.002</td>\n",
       "      <td>3537.0</td>\n",
       "      <td>3751.0</td>\n",
       "      <td>1.0</td>\n",
       "    </tr>\n",
       "  </tbody>\n",
       "</table>\n",
       "</div>"
      ],
      "text/plain": [
       "              mean     sd  hdi_3%  hdi_97%  mcse_mean  mcse_sd  ess_bulk  \\\n",
       "intercept   -2.696  0.121  -2.919   -2.462      0.002    0.002    3462.0   \n",
       "beta_annual -1.326  0.228  -1.757   -0.906      0.003    0.003    4649.0   \n",
       "beta_engage -1.951  0.134  -2.209   -1.707      0.002    0.002    3537.0   \n",
       "\n",
       "             ess_tail  r_hat  \n",
       "intercept      3744.0    1.0  \n",
       "beta_annual    4172.0    1.0  \n",
       "beta_engage    3751.0    1.0  "
      ]
     },
     "execution_count": 6,
     "metadata": {},
     "output_type": "execute_result"
    }
   ],
   "source": [
    "# Summarize Posterior\n",
    "az.summary(trace, var_names=[\"intercept\", \"beta_annual\", \"beta_engage\"])\n"
   ]
  },
  {
   "cell_type": "code",
   "execution_count": 7,
   "id": "6c961d31-6f0b-41f8-998b-8194a4c1c29c",
   "metadata": {},
   "outputs": [
    {
     "data": {
      "image/png": "[encoded data removed]",
      "text/plain": [
       "<Figure size 600x410 with 1 Axes>"
      ]
     },
     "metadata": {},
     "output_type": "display_data"
    }
   ],
   "source": [
    "#Plot Posterior for treatment effect\n",
    "az.plot_forest(trace, var_names=[\"beta_annual\"], combined=True)\n",
    "plt.title(\"Estimated Effect of Annual Plan on Churn (log-odds)\")\n",
    "plt.tight_layout()\n",
    "plt.savefig(FIGURES_DIR / \"uplift_forest.png\")\n",
    "plt.show()\n"
   ]
  },
  {
   "cell_type": "code",
   "execution_count": 8,
   "id": "4166725c-96a3-41d7-a75f-4161d05c1813",
   "metadata": {},
   "outputs": [
    {
     "name": "stdout",
     "output_type": "stream",
     "text": [
      "Estimated log-odds reduction (annual vs monthly): -1.32\n",
      "Probability that annual plan reduces churn: 100.0%\n"
     ]
    }
   ],
   "source": [
    "# overall summary analysis \n",
    "# Extract posterior samples\n",
    "samples = trace.posterior[\"beta_annual\"].values.flatten()\n",
    "prob_reduction = (samples < 0).mean()\n",
    "median_effect = np.median(samples)\n",
    "\n",
    "print(f\"Estimated log-odds reduction (annual vs monthly): {median_effect:.2f}\")\n",
    "print(f\"Probability that annual plan reduces churn: {prob_reduction:.1%}\")\n"
   ]
  },
  {
   "cell_type": "code",
   "execution_count": 20,
   "id": "a73cedcd-8245-4451-a318-07e0845a92b1",
   "metadata": {},
   "outputs": [
    {
     "data": {
      "image/png": "[encoded data removed]",
      "text/plain": [
       "<Figure size 700x400 with 1 Axes>"
      ]
     },
     "metadata": {},
     "output_type": "display_data"
    }
   ],
   "source": [
    "# Compute churn probability reduction from posterior\n",
    "log_odds_samples = trace.posterior[\"beta_annual\"].values.flatten()\n",
    "prob_diff = expit(0) - expit(log_odds_samples)\n",
    "\n",
    "# Plot with minimal, clean green styling\n",
    "plt.figure(figsize=(7, 4))\n",
    "sns.kdeplot(prob_diff, fill=True, color=\"forestgreen\", alpha=0.3, linewidth=2.0)\n",
    "plt.axvline(np.median(prob_diff), color=\"black\", linestyle=\"--\", linewidth=2.0, label=\"Median\")\n",
    "\n",
    "plt.title(\"Estimated Churn Reduction from Annual Plan\", fontsize=13)\n",
    "plt.xlabel(\"Absolute Reduction in Churn Probability\")\n",
    "plt.ylabel(\"Posterior Density\")\n",
    "plt.grid(True, alpha=0.3)\n",
    "plt.legend()\n",
    "plt.tight_layout()\n",
    "plt.savefig(FIGURES_DIR / \"churn_reduction_density.png\")\n",
    "plt.show()"
   ]
  },
  {
   "cell_type": "code",
   "execution_count": null,
   "id": "8cfc0513-3ede-4a07-8d43-5bfee6281c35",
   "metadata": {},
   "outputs": [],
   "source": []
  }
 ],
 "metadata": {
  "kernelspec": {
   "display_name": "Python [conda env:base] *",
   "language": "python",
   "name": "conda-base-py"
  },
  "language_info": {
   "codemirror_mode": {
    "name": "ipython",
    "version": 3
   },
   "file_extension": ".py",
   "mimetype": "text/x-python",
   "name": "python",
   "nbconvert_exporter": "python",
   "pygments_lexer": "ipython3",
   "version": "3.12.3"
  }
 },
 "nbformat": 4,
 "nbformat_minor": 5
}
