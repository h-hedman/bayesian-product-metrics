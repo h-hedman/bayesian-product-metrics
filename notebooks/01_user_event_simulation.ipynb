{
 "cells": [
  {
   "cell_type": "code",
   "execution_count": 4,
   "id": "2f6bd108-fde6-4ebb-955c-3bfc14996405",
   "metadata": {},
   "outputs": [],
   "source": [
    "# 01_simulate_data_bayesian_analysis.py\n",
    "# Simulates semi-synthetic user and event data for a fictional streaming platform (Streamly).\n",
    "# Outputs:\n",
    "# - users.csv: user-level data with signup_date, subscription_type, and region\n",
    "# - events.csv: monthly user-level panel data with usage_time, transactions, and churn_flag\n",
    "# This serves as the raw input for downstream product metric teardown and Bayesian churn modeling."
   ]
  },
  {
   "cell_type": "code",
   "execution_count": 5,
   "id": "8c67ff4b-e770-4d21-8e80-8e2382b6cfeb",
   "metadata": {},
   "outputs": [],
   "source": [
    "# Load libraries\n",
    "import numpy as np\n",
    "import pandas as pd\n",
    "from datetime import datetime\n",
    "from pathlib import Path"
   ]
  },
  {
   "cell_type": "code",
   "execution_count": 6,
   "id": "ad27d2de-80d1-4123-be88-e2f1253dea53",
   "metadata": {},
   "outputs": [],
   "source": [
    "# Dynamically set project root\n",
    "CURRENT_DIR = Path().resolve()\n",
    "BASE_DIR = CURRENT_DIR.parent if CURRENT_DIR.name == \"notebooks\" else CURRENT_DIR\n",
    "RAW_DATA_DIR = BASE_DIR / \"data\" / \"raw\"\n",
    "RAW_DATA_DIR.mkdir(parents=True, exist_ok=True)"
   ]
  },
  {
   "cell_type": "code",
   "execution_count": 7,
   "id": "9277fec2-dac5-400a-87c6-900620986142",
   "metadata": {},
   "outputs": [],
   "source": [
    "# Prepare synthetic dataset\n",
    "# set random seed\n",
    "np.random.seed(64)\n",
    "\n",
    "# Settings\n",
    "n_users = 3000\n",
    "start_date = pd.to_datetime(\"2023-01-01\")\n",
    "end_date = pd.to_datetime(\"2024-06-30\")\n",
    "months = pd.date_range(start=start_date, end=end_date, freq=\"MS\")\n",
    "\n",
    "# Create users\n",
    "user_ids = [f\"u_{i}\" for i in range(n_users)]\n",
    "regions = [\"US\", \"EU\", \"LATAM\"]\n",
    "plans = [\"trial\", \"monthly\", \"annual\"]\n",
    "plan_probs = [0.2, 0.6, 0.2]\n",
    "\n",
    "users = pd.DataFrame({\n",
    "    \"user_id\": user_ids,\n",
    "    \"region\": np.random.choice(regions, n_users, p=[0.5, 0.3, 0.2]),\n",
    "    \"subscription_type\": np.random.choice(plans, n_users, p=plan_probs),\n",
    "    \"signup_date\": np.random.choice(months, n_users)\n",
    "})\n",
    "\n",
    "# Assign churn probability by plan (lower for annual)\n",
    "churn_base = {\"trial\": 0.25, \"monthly\": 0.15, \"annual\": 0.05}\n",
    "\n",
    "events = []\n",
    "\n",
    "for _, row in users.iterrows():\n",
    "    uid = row[\"user_id\"]\n",
    "    plan = row[\"subscription_type\"]\n",
    "    region = row[\"region\"]\n",
    "    signup = row[\"signup_date\"]\n",
    "\n",
    "    for m in months:\n",
    "        if m < signup:\n",
    "            continue\n",
    "\n",
    "        if np.random.rand() < churn_base[plan]:\n",
    "            churn_flag = 1\n",
    "            events.append({\n",
    "                \"user_id\": uid,\n",
    "                \"month\": m,\n",
    "                \"subscription_type\": plan,\n",
    "                \"region\": region,\n",
    "                \"usage_time\": np.random.gamma(2, 2),\n",
    "                \"transactions\": np.random.poisson(1),\n",
    "                \"churn_flag\": churn_flag\n",
    "            })\n",
    "            break  # user churns\n",
    "        else:\n",
    "            churn_flag = 0\n",
    "            events.append({\n",
    "                \"user_id\": uid,\n",
    "                \"month\": m,\n",
    "                \"subscription_type\": plan,\n",
    "                \"region\": region,\n",
    "                \"usage_time\": np.random.gamma(3, 3),\n",
    "                \"transactions\": np.random.poisson(2),\n",
    "                \"churn_flag\": churn_flag\n",
    "            })"
   ]
  },
  {
   "cell_type": "code",
   "execution_count": 8,
   "id": "b662075f-928f-422a-8a81-01b6dedb5dc1",
   "metadata": {},
   "outputs": [
    {
     "name": "stdout",
     "output_type": "stream",
     "text": [
      "Confirmed: simulated users and events saved to C:\\Users\\hayde\\Desktop\\bayesian-product-metrics\\data\\raw\n"
     ]
    }
   ],
   "source": [
    "# Convert to DataFrame\n",
    "events_df = pd.DataFrame(events)\n",
    "\n",
    "# Save to root-level data/raw/\n",
    "users.to_csv(RAW_DATA_DIR / \"users.csv\", index=False)\n",
    "events_df.to_csv(RAW_DATA_DIR / \"events.csv\", index=False)\n",
    "\n",
    "print(f\"Confirmed: simulated users and events saved to {RAW_DATA_DIR}\")"
   ]
  }
 ],
 "metadata": {
  "kernelspec": {
   "display_name": "Python [conda env:base] *",
   "language": "python",
   "name": "conda-base-py"
  },
  "language_info": {
   "codemirror_mode": {
    "name": "ipython",
    "version": 3
   },
   "file_extension": ".py",
   "mimetype": "text/x-python",
   "name": "python",
   "nbconvert_exporter": "python",
   "pygments_lexer": "ipython3",
   "version": "3.12.3"
  }
 },
 "nbformat": 4,
 "nbformat_minor": 5
}
